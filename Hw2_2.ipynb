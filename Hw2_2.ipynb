{
  "nbformat": 4,
  "nbformat_minor": 0,
  "metadata": {
    "colab": {
      "provenance": [],
      "authorship_tag": "ABX9TyOydij2hoa1o08QKw1vZQ2C",
      "include_colab_link": true
    },
    "kernelspec": {
      "name": "python3",
      "display_name": "Python 3"
    },
    "language_info": {
      "name": "python"
    }
  },
  "cells": [
    {
      "cell_type": "markdown",
      "metadata": {
        "id": "view-in-github",
        "colab_type": "text"
      },
      "source": [
        "<a href=\"https://colab.research.google.com/github/NikitaMelnychencko/goit-ds-hw-05/blob/main/Hw2_2.ipynb\" target=\"_parent\"><img src=\"https://colab.research.google.com/assets/colab-badge.svg\" alt=\"Open In Colab\"/></a>"
      ]
    },
    {
      "cell_type": "code",
      "execution_count": null,
      "metadata": {
        "id": "vZY-NHLL6SXi"
      },
      "outputs": [],
      "source": [
        "import requests\n",
        "import pandas as pd\n",
        "import matplotlib.pyplot as plt\n",
        "import numpy as np"
      ]
    },
    {
      "cell_type": "markdown",
      "source": [
        "Прочитайте файл 2017_jun_final.csv за допомогою методу read_csv"
      ],
      "metadata": {
        "id": "v6pA4VIS65V_"
      }
    },
    {
      "cell_type": "code",
      "source": [
        "from google.colab import files\n",
        "uploaded = files.upload()"
      ],
      "metadata": {
        "colab": {
          "base_uri": "https://localhost:8080/",
          "height": 38
        },
        "id": "fNqH69y569j9",
        "outputId": "72d1a810-6b5a-4273-8ab1-95d9ff2ecf4f"
      },
      "execution_count": null,
      "outputs": [
        {
          "output_type": "display_data",
          "data": {
            "text/plain": [
              "<IPython.core.display.HTML object>"
            ],
            "text/html": [
              "\n",
              "     <input type=\"file\" id=\"files-74447f36-acb1-4bec-b78d-82284df63343\" name=\"files[]\" multiple disabled\n",
              "        style=\"border:none\" />\n",
              "     <output id=\"result-74447f36-acb1-4bec-b78d-82284df63343\">\n",
              "      Upload widget is only available when the cell has been executed in the\n",
              "      current browser session. Please rerun this cell to enable.\n",
              "      </output>\n",
              "      <script>// Copyright 2017 Google LLC\n",
              "//\n",
              "// Licensed under the Apache License, Version 2.0 (the \"License\");\n",
              "// you may not use this file except in compliance with the License.\n",
              "// You may obtain a copy of the License at\n",
              "//\n",
              "//      http://www.apache.org/licenses/LICENSE-2.0\n",
              "//\n",
              "// Unless required by applicable law or agreed to in writing, software\n",
              "// distributed under the License is distributed on an \"AS IS\" BASIS,\n",
              "// WITHOUT WARRANTIES OR CONDITIONS OF ANY KIND, either express or implied.\n",
              "// See the License for the specific language governing permissions and\n",
              "// limitations under the License.\n",
              "\n",
              "/**\n",
              " * @fileoverview Helpers for google.colab Python module.\n",
              " */\n",
              "(function(scope) {\n",
              "function span(text, styleAttributes = {}) {\n",
              "  const element = document.createElement('span');\n",
              "  element.textContent = text;\n",
              "  for (const key of Object.keys(styleAttributes)) {\n",
              "    element.style[key] = styleAttributes[key];\n",
              "  }\n",
              "  return element;\n",
              "}\n",
              "\n",
              "// Max number of bytes which will be uploaded at a time.\n",
              "const MAX_PAYLOAD_SIZE = 100 * 1024;\n",
              "\n",
              "function _uploadFiles(inputId, outputId) {\n",
              "  const steps = uploadFilesStep(inputId, outputId);\n",
              "  const outputElement = document.getElementById(outputId);\n",
              "  // Cache steps on the outputElement to make it available for the next call\n",
              "  // to uploadFilesContinue from Python.\n",
              "  outputElement.steps = steps;\n",
              "\n",
              "  return _uploadFilesContinue(outputId);\n",
              "}\n",
              "\n",
              "// This is roughly an async generator (not supported in the browser yet),\n",
              "// where there are multiple asynchronous steps and the Python side is going\n",
              "// to poll for completion of each step.\n",
              "// This uses a Promise to block the python side on completion of each step,\n",
              "// then passes the result of the previous step as the input to the next step.\n",
              "function _uploadFilesContinue(outputId) {\n",
              "  const outputElement = document.getElementById(outputId);\n",
              "  const steps = outputElement.steps;\n",
              "\n",
              "  const next = steps.next(outputElement.lastPromiseValue);\n",
              "  return Promise.resolve(next.value.promise).then((value) => {\n",
              "    // Cache the last promise value to make it available to the next\n",
              "    // step of the generator.\n",
              "    outputElement.lastPromiseValue = value;\n",
              "    return next.value.response;\n",
              "  });\n",
              "}\n",
              "\n",
              "/**\n",
              " * Generator function which is called between each async step of the upload\n",
              " * process.\n",
              " * @param {string} inputId Element ID of the input file picker element.\n",
              " * @param {string} outputId Element ID of the output display.\n",
              " * @return {!Iterable<!Object>} Iterable of next steps.\n",
              " */\n",
              "function* uploadFilesStep(inputId, outputId) {\n",
              "  const inputElement = document.getElementById(inputId);\n",
              "  inputElement.disabled = false;\n",
              "\n",
              "  const outputElement = document.getElementById(outputId);\n",
              "  outputElement.innerHTML = '';\n",
              "\n",
              "  const pickedPromise = new Promise((resolve) => {\n",
              "    inputElement.addEventListener('change', (e) => {\n",
              "      resolve(e.target.files);\n",
              "    });\n",
              "  });\n",
              "\n",
              "  const cancel = document.createElement('button');\n",
              "  inputElement.parentElement.appendChild(cancel);\n",
              "  cancel.textContent = 'Cancel upload';\n",
              "  const cancelPromise = new Promise((resolve) => {\n",
              "    cancel.onclick = () => {\n",
              "      resolve(null);\n",
              "    };\n",
              "  });\n",
              "\n",
              "  // Wait for the user to pick the files.\n",
              "  const files = yield {\n",
              "    promise: Promise.race([pickedPromise, cancelPromise]),\n",
              "    response: {\n",
              "      action: 'starting',\n",
              "    }\n",
              "  };\n",
              "\n",
              "  cancel.remove();\n",
              "\n",
              "  // Disable the input element since further picks are not allowed.\n",
              "  inputElement.disabled = true;\n",
              "\n",
              "  if (!files) {\n",
              "    return {\n",
              "      response: {\n",
              "        action: 'complete',\n",
              "      }\n",
              "    };\n",
              "  }\n",
              "\n",
              "  for (const file of files) {\n",
              "    const li = document.createElement('li');\n",
              "    li.append(span(file.name, {fontWeight: 'bold'}));\n",
              "    li.append(span(\n",
              "        `(${file.type || 'n/a'}) - ${file.size} bytes, ` +\n",
              "        `last modified: ${\n",
              "            file.lastModifiedDate ? file.lastModifiedDate.toLocaleDateString() :\n",
              "                                    'n/a'} - `));\n",
              "    const percent = span('0% done');\n",
              "    li.appendChild(percent);\n",
              "\n",
              "    outputElement.appendChild(li);\n",
              "\n",
              "    const fileDataPromise = new Promise((resolve) => {\n",
              "      const reader = new FileReader();\n",
              "      reader.onload = (e) => {\n",
              "        resolve(e.target.result);\n",
              "      };\n",
              "      reader.readAsArrayBuffer(file);\n",
              "    });\n",
              "    // Wait for the data to be ready.\n",
              "    let fileData = yield {\n",
              "      promise: fileDataPromise,\n",
              "      response: {\n",
              "        action: 'continue',\n",
              "      }\n",
              "    };\n",
              "\n",
              "    // Use a chunked sending to avoid message size limits. See b/62115660.\n",
              "    let position = 0;\n",
              "    do {\n",
              "      const length = Math.min(fileData.byteLength - position, MAX_PAYLOAD_SIZE);\n",
              "      const chunk = new Uint8Array(fileData, position, length);\n",
              "      position += length;\n",
              "\n",
              "      const base64 = btoa(String.fromCharCode.apply(null, chunk));\n",
              "      yield {\n",
              "        response: {\n",
              "          action: 'append',\n",
              "          file: file.name,\n",
              "          data: base64,\n",
              "        },\n",
              "      };\n",
              "\n",
              "      let percentDone = fileData.byteLength === 0 ?\n",
              "          100 :\n",
              "          Math.round((position / fileData.byteLength) * 100);\n",
              "      percent.textContent = `${percentDone}% done`;\n",
              "\n",
              "    } while (position < fileData.byteLength);\n",
              "  }\n",
              "\n",
              "  // All done.\n",
              "  yield {\n",
              "    response: {\n",
              "      action: 'complete',\n",
              "    }\n",
              "  };\n",
              "}\n",
              "\n",
              "scope.google = scope.google || {};\n",
              "scope.google.colab = scope.google.colab || {};\n",
              "scope.google.colab._files = {\n",
              "  _uploadFiles,\n",
              "  _uploadFilesContinue,\n",
              "};\n",
              "})(self);\n",
              "</script> "
            ]
          },
          "metadata": {}
        }
      ]
    },
    {
      "cell_type": "code",
      "source": [
        "df = pd.read_csv(\"2017_jun_final - 2017_jun_final.csv\")\n",
        "df"
      ],
      "metadata": {
        "id": "bPYy6o5292Yc"
      },
      "execution_count": null,
      "outputs": []
    },
    {
      "cell_type": "markdown",
      "source": [
        "Прочитайте отриману таблицю, використовуючи метод head"
      ],
      "metadata": {
        "id": "Wylsvu2q_pAQ"
      }
    },
    {
      "cell_type": "code",
      "source": [
        "df.head()"
      ],
      "metadata": {
        "id": "8c7rWGDf_jFJ"
      },
      "execution_count": null,
      "outputs": []
    },
    {
      "cell_type": "markdown",
      "source": [
        "Визначте кількість рядків та стовпців у датафреймі (атрибут shape)\n"
      ],
      "metadata": {
        "id": "QrGco-kN_yH5"
      }
    },
    {
      "cell_type": "code",
      "source": [
        "df.shape"
      ],
      "metadata": {
        "id": "fCCITEdR_ymb"
      },
      "execution_count": null,
      "outputs": []
    },
    {
      "cell_type": "markdown",
      "source": [
        "Визначте типи всіх стовпців за допомогою dataframe.dtypes"
      ],
      "metadata": {
        "id": "ksRzUIaSAD-M"
      }
    },
    {
      "cell_type": "code",
      "source": [
        "df.dtypes"
      ],
      "metadata": {
        "id": "OUHVyY3HAEWj"
      },
      "execution_count": null,
      "outputs": []
    },
    {
      "cell_type": "markdown",
      "source": [
        "Порахуйте, яка частка пропусків міститься в кожній колонці (використовуйте методи isnull та sum)"
      ],
      "metadata": {
        "id": "IRj9MiEZANyz"
      }
    },
    {
      "cell_type": "code",
      "source": [
        "column_names = df.columns\n",
        "\n",
        "for column in column_names:\n",
        "  nan_values = df[column].isnull().sum()\n",
        "  print(f\"{column}: {nan_values}\")"
      ],
      "metadata": {
        "id": "U9UYZwVZAOKH"
      },
      "execution_count": null,
      "outputs": []
    },
    {
      "cell_type": "markdown",
      "source": [
        "Видаліть усі стовпці з пропусками, крім стовпця \"Мова програмування\""
      ],
      "metadata": {
        "id": "seMGPEVHAk_s"
      }
    },
    {
      "cell_type": "code",
      "source": [
        "df_cleaned = df.loc[:, ~(df.isna().any() & (df.columns != \"Мова програмування\"))]\n",
        "df_cleaned"
      ],
      "metadata": {
        "id": "F7Ll_PhFAl2C"
      },
      "execution_count": null,
      "outputs": []
    },
    {
      "cell_type": "markdown",
      "source": [
        "Знову порахуйте, яка частка пропусків міститься в кожній колонці і переконайтеся, що залишився тільки стовпець \"Мова.програмування\""
      ],
      "metadata": {
        "id": "rJS4-7Z6Fafe"
      }
    },
    {
      "cell_type": "code",
      "source": [
        "column_names = df_cleaned.columns\n",
        "\n",
        "for column in column_names:\n",
        "  nan_values = df_cleaned[column].isnull().sum()\n",
        "  print(f\"{column}: {nan_values}\")"
      ],
      "metadata": {
        "id": "ZMHOD0-aEs2f"
      },
      "execution_count": null,
      "outputs": []
    },
    {
      "cell_type": "markdown",
      "source": [
        "Видаліть усі рядки у вихідній таблиці за допомогою методу dropna\n"
      ],
      "metadata": {
        "id": "qRXGJFxLGaBC"
      }
    },
    {
      "cell_type": "code",
      "source": [
        "new_df = df_cleaned.dropna()\n",
        "new_df"
      ],
      "metadata": {
        "id": "UJgkV6WLGbj_"
      },
      "execution_count": null,
      "outputs": []
    },
    {
      "cell_type": "markdown",
      "source": [
        "Визначте новий розмір таблиці за допомогою методу shape"
      ],
      "metadata": {
        "id": "8u0jhZOlGjyj"
      }
    },
    {
      "cell_type": "code",
      "source": [
        "new_df.shape\n"
      ],
      "metadata": {
        "id": "8945GP4gGklH"
      },
      "execution_count": null,
      "outputs": []
    },
    {
      "cell_type": "markdown",
      "source": [
        "Створіть нову таблицю python_data, в якій будуть тільки рядки зі спеціалістами, які вказали мову програмування Python"
      ],
      "metadata": {
        "id": "lNomxhEeHDci"
      }
    },
    {
      "cell_type": "code",
      "source": [
        "new_table = new_df[new_df[\"Мова програмування\"]==\"Python\"]\n",
        "python_data = new_table.reset_index(drop=True)\n",
        "python_data\n"
      ],
      "metadata": {
        "id": "XopS5jMZHD_2"
      },
      "execution_count": null,
      "outputs": []
    },
    {
      "cell_type": "markdown",
      "source": [
        "Визначте розмір таблиці python_data за допомогою методу shape"
      ],
      "metadata": {
        "id": "3RCyJMPDkPHP"
      }
    },
    {
      "cell_type": "code",
      "source": [
        "python_data.shape"
      ],
      "metadata": {
        "id": "gthvYGSJHrEa"
      },
      "execution_count": null,
      "outputs": []
    },
    {
      "cell_type": "markdown",
      "source": [
        "Використовуючи метод groupby, виконайте групування за стовпчиком \"Посада\""
      ],
      "metadata": {
        "id": "e6xrGPXTkdzo"
      }
    },
    {
      "cell_type": "code",
      "source": [
        "group = python_data.groupby(by=\"Посада\")"
      ],
      "metadata": {
        "id": "Fn6PcdzgkhKM"
      },
      "execution_count": null,
      "outputs": []
    },
    {
      "cell_type": "markdown",
      "source": [
        "Створіть новий DataFrame, де для згрупованих даних за стовпчиком \"Посада\", виконайте агрегацію даних за допомогою методу agg і знайдіть мінімальне та максимальне значення у стовпчику \"Зарплата.в.місяць\""
      ],
      "metadata": {
        "id": "KymO7ArqlUy-"
      }
    },
    {
      "cell_type": "code",
      "source": [
        "min_max_salary = group[\"Зарплата на місяць\"].agg(['min', 'max'])\n",
        "min_max_salary"
      ],
      "metadata": {
        "id": "hUUsOCyClV3m"
      },
      "execution_count": null,
      "outputs": []
    },
    {
      "cell_type": "markdown",
      "source": [
        "Створіть функцію fill_avg_salary, яка повертатиме середнє значення заробітної плати на місяць. Використовуйте її для методу apply та створіть новий стовпчик \"avg\""
      ],
      "metadata": {
        "id": "zHeaqKj1nlUS"
      }
    },
    {
      "cell_type": "code",
      "source": [
        "min_max_salary[\"avg\"] = min_max_salary.apply(\n",
        "    lambda row: (row[\"max\"] + row[\"min\"]) / 2, axis=1\n",
        ")\n",
        "min_max_salary\n",
        "\n",
        "min_max_salary[['min', 'avg', 'max']].plot(\n",
        "    kind='bar',\n",
        "    figsize=(10, 6),\n",
        "    color=['teal', 'coral', 'slateblue']\n",
        ")\n",
        "\n",
        "plt.title(\"Мінімальна, середня та максимальна зарплата\", fontsize=14)\n",
        "plt.xlabel(\"Категорії\", fontsize=12)\n",
        "plt.ylabel(\"Зарплата\", fontsize=12)\n",
        "plt.xticks(rotation=45, ha='right')\n",
        "plt.tight_layout()\n",
        "plt.show()\n",
        "\n"
      ],
      "metadata": {
        "id": "rpOi4d46nYp2"
      },
      "execution_count": null,
      "outputs": []
    },
    {
      "cell_type": "markdown",
      "source": [
        "Створіть описову статистику за допомогою методу describe для нового стовпчика."
      ],
      "metadata": {
        "id": "Z8ms1u8dqwLG"
      }
    },
    {
      "cell_type": "code",
      "source": [
        "describe_table = min_max_salary[\"avg\"].describe()\n",
        "describe_table"
      ],
      "metadata": {
        "id": "Mm7g8r9jpHP7"
      },
      "execution_count": null,
      "outputs": []
    },
    {
      "cell_type": "code",
      "source": [
        "csv = describe_table.to_csv(\"describe_table.csv\")\n",
        "files.download(\"describe_table.csv\")"
      ],
      "metadata": {
        "id": "XlSaTqtiv2mQ"
      },
      "execution_count": null,
      "outputs": []
    },
    {
      "cell_type": "code",
      "source": [],
      "metadata": {
        "id": "LGbL9zeTwNtT"
      },
      "execution_count": null,
      "outputs": []
    }
  ]
}